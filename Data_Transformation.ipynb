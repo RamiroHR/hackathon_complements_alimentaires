{
 "cells": [
  {
   "cell_type": "markdown",
   "id": "337f2996-8c06-4409-9ff2-0965bd222633",
   "metadata": {},
   "source": [
    "# Importings"
   ]
  },
  {
   "cell_type": "markdown",
   "id": "218dbe63-db2c-4eb5-8630-f237887fbf8a",
   "metadata": {},
   "source": [
    "### Libraries"
   ]
  },
  {
   "cell_type": "code",
   "execution_count": 1,
   "id": "3e382caa-9c0a-46a9-90fc-109ed809a677",
   "metadata": {},
   "outputs": [],
   "source": [
    "import pandas as pd\n",
    "# import numpy as np\n",
    "# import re\n",
    "\n",
    "# import matplotlib.pyplot as plt\n",
    "# import seaborn as sns\n",
    "# sns.set()\n",
    "\n",
    "%load_ext autoreload\n",
    "%autoreload 2\n",
    "# import src.data_preprocessing as dpp\n",
    "import src.data_transformation as dtf"
   ]
  },
  {
   "cell_type": "markdown",
   "id": "2b36acb8-ade4-42eb-9c81-63e0c1747cb5",
   "metadata": {},
   "source": [
    "# Datasets"
   ]
  },
  {
   "cell_type": "code",
   "execution_count": null,
   "id": "c0d466f1-caf7-4784-8d31-2c2ea16dc6d3",
   "metadata": {},
   "outputs": [],
   "source": [
    "path_raw = './data/raw/'\n",
    "\n",
    "filenames = {'supplements' : 'liste-des-complements-alimentaires-declares.csv',\n",
    "             'ingredients' : 'ingredients.csv',\n",
    "             'plants' : 'plantes.csv',\n",
    "             'microorganisms' : 'microorganismes.csv',\n",
    "             'substances' : 'substances.csv'}"
   ]
  },
  {
   "cell_type": "code",
   "execution_count": null,
   "id": "eee05a6e-655a-4a47-9c4b-4a39c666161b",
   "metadata": {},
   "outputs": [],
   "source": [
    "df_complements = pd.read_csv(path_raw + filenames['supplements'], sep =';')\n",
    "\n",
    "print(df_complements.shape)\n",
    "df_complements.head()"
   ]
  },
  {
   "cell_type": "markdown",
   "id": "dff458bc-1426-43fb-8e5d-5e4a62e9db76",
   "metadata": {},
   "source": [
    "# Transformations"
   ]
  },
  {
   "cell_type": "code",
   "execution_count": null,
   "id": "1cc2fc00-293c-47e3-9820-06e705129fc9",
   "metadata": {},
   "outputs": [],
   "source": [
    "## celan dataset\n",
    "\n",
    "\n",
    "## unify formating\n",
    "\n",
    "\n",
    "## enrich dataset\n",
    "# is_bio\n",
    "# subtances\n",
    "# has must quantities specied\n"
   ]
  }
 ],
 "metadata": {
  "kernelspec": {
   "display_name": "Python 3 (ipykernel)",
   "language": "python",
   "name": "python3"
  },
  "language_info": {
   "codemirror_mode": {
    "name": "ipython",
    "version": 3
   },
   "file_extension": ".py",
   "mimetype": "text/x-python",
   "name": "python",
   "nbconvert_exporter": "python",
   "pygments_lexer": "ipython3",
   "version": "3.9.12"
  }
 },
 "nbformat": 4,
 "nbformat_minor": 5
}
